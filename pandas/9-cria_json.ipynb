{
 "cells": [
  {
   "cell_type": "code",
   "execution_count": 1,
   "metadata": {},
   "outputs": [],
   "source": [
    "import json"
   ]
  },
  {
   "cell_type": "code",
   "execution_count": 2,
   "metadata": {},
   "outputs": [],
   "source": [
    "dados_receitas = {\n",
    "    \"receitas\": [\n",
    "        {\n",
    "            \"titulo\": \"Bolo de Chocolate\",\n",
    "            \"tempo_preparo\": \"45 minutos\",\n",
    "            \"porcoes\": 8,\n",
    "            \"ingredientes\":[\n",
    "                {\"ingrediente\": \"Farinha de Trigo\", \"quantidade\": \"2 xícaras\"},\n",
    "                {\"ingrediente\": \"Açúcar\", \"quantidade\": \"1 xícara\"},\n",
    "                {\"ingrediente\": \"Ovos\", \"quantidade\": \"3 xícaras\"},\n",
    "                {\"ingrediente\": \"Leite\", \"quantidade\": \"1 xícara\"},\n",
    "                {\"ingrediente\": \"Manteiga\", \"quantidade\": \"1/2 xícara\"},                \n",
    "            ]\n",
    "        },\n",
    "        {\n",
    "            \"titulo\": \"Salada Caesar\",\n",
    "            \"tempo_preparo\": \"20 minutos\",\n",
    "            \"porcoes\": 4,\n",
    "            \"ingredientes\": [\n",
    "                {\"ingrediente\":\"Alface romana\", \"quantidade\": \"1 cabeça\"},\n",
    "                {\"ingrediente\":\"Croutons\", \"quantidade\": \"1 xícara\"},\n",
    "                {\"ingrediente\":\"Queijo parmesão\", \"quantidade\": \"1/2 xícara\"},\n",
    "                {\"ingrediente\":\"Molho caesar\", \"quantidade\": \"1/4 xícara\"}\n",
    "            ]\n",
    "        },\n",
    "        {\n",
    "            \"titulo\": \"Pasta ao Pesto\",\n",
    "            \"tempo_preparo\": \"30 minutos\",\n",
    "            \"porcoes\": 2,\n",
    "            \"ingredientes\": [\n",
    "                {\"ingrediente\": \"Massa\", \"quantidade\": \"200g\"},\n",
    "            {\"ingrediente\": \"Manjericão fresco\", \"quantidade\": \"1/2 xícara\"},\n",
    "            {\"ingrediente\": \"Azeite de oliva\", \"quantidade\": \"1/3 xícara\"},\n",
    "                {\"ingrediente\": \"Nozes\", \"quantidade\": \"1/4 xícara\"},\n",
    "            {\"ingrediente\": \"Queijo parmesão\", \"quantidade\": \"1/4 xícara\"}\n",
    "            ]\n",
    "        }\n",
    "    ]\n",
    "}"
   ]
  },
  {
   "cell_type": "code",
   "execution_count": 4,
   "metadata": {},
   "outputs": [],
   "source": [
    "with open(\"dados/receitas.json\", \"w\", encoding=\"utf-8\") as file:\n",
    "    json.dump(dados_receitas, file, ensure_ascii=False, indent=4)"
   ]
  }
 ],
 "metadata": {
  "kernelspec": {
   "display_name": "venv",
   "language": "python",
   "name": "python3"
  },
  "language_info": {
   "codemirror_mode": {
    "name": "ipython",
    "version": 3
   },
   "file_extension": ".py",
   "mimetype": "text/x-python",
   "name": "python",
   "nbconvert_exporter": "python",
   "pygments_lexer": "ipython3",
   "version": "3.12.3"
  }
 },
 "nbformat": 4,
 "nbformat_minor": 2
}
