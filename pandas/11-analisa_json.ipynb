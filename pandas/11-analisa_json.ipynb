{
 "cells": [
  {
   "cell_type": "code",
   "execution_count": 1,
   "metadata": {},
   "outputs": [],
   "source": [
    "import pandas as pd"
   ]
  },
  {
   "cell_type": "code",
   "execution_count": 2,
   "metadata": {},
   "outputs": [
    {
     "data": {
      "text/html": [
       "<div>\n",
       "<style scoped>\n",
       "    .dataframe tbody tr th:only-of-type {\n",
       "        vertical-align: middle;\n",
       "    }\n",
       "\n",
       "    .dataframe tbody tr th {\n",
       "        vertical-align: top;\n",
       "    }\n",
       "\n",
       "    .dataframe thead th {\n",
       "        text-align: right;\n",
       "    }\n",
       "</style>\n",
       "<table border=\"1\" class=\"dataframe\">\n",
       "  <thead>\n",
       "    <tr style=\"text-align: right;\">\n",
       "      <th></th>\n",
       "      <th>receitas</th>\n",
       "    </tr>\n",
       "  </thead>\n",
       "  <tbody>\n",
       "    <tr>\n",
       "      <th>0</th>\n",
       "      <td>{'titulo': 'Bolo de Chocolate', 'tempo_preparo...</td>\n",
       "    </tr>\n",
       "    <tr>\n",
       "      <th>1</th>\n",
       "      <td>{'titulo': 'Salada Caesar', 'tempo_preparo': '...</td>\n",
       "    </tr>\n",
       "    <tr>\n",
       "      <th>2</th>\n",
       "      <td>{'titulo': 'Pasta ao Pesto', 'tempo_preparo': ...</td>\n",
       "    </tr>\n",
       "  </tbody>\n",
       "</table>\n",
       "</div>"
      ],
      "text/plain": [
       "                                            receitas\n",
       "0  {'titulo': 'Bolo de Chocolate', 'tempo_preparo...\n",
       "1  {'titulo': 'Salada Caesar', 'tempo_preparo': '...\n",
       "2  {'titulo': 'Pasta ao Pesto', 'tempo_preparo': ..."
      ]
     },
     "execution_count": 2,
     "metadata": {},
     "output_type": "execute_result"
    }
   ],
   "source": [
    "df = pd.read_json(\"dados/receitas.json\", encoding=\"utf-8\")\n",
    "df"
   ]
  },
  {
   "cell_type": "code",
   "execution_count": 5,
   "metadata": {},
   "outputs": [],
   "source": [
    "#Análise Total de Ingredientes por Receita\n",
    "receitas_expandidas = []\n",
    "for receita in df['receitas']:\n",
    "    total_ingredientes = len(receita['ingredientes'])\n",
    "    receita_info = {\n",
    "        'titulo': receita['titulo'],\n",
    "        'tempo_preparo': receita['tempo_preparo'],\n",
    "        'porcoes': receita['porcoes'],\n",
    "        'total_ingredientes': total_ingredientes\n",
    "    }\n",
    "    receitas_expandidas.append(receita_info)"
   ]
  },
  {
   "cell_type": "code",
   "execution_count": 6,
   "metadata": {},
   "outputs": [
    {
     "data": {
      "text/plain": [
       "[{'titulo': 'Bolo de Chocolate',\n",
       "  'tempo_preparo': '45 minutos',\n",
       "  'porcoes': 8,\n",
       "  'total_ingredientes': 5},\n",
       " {'titulo': 'Salada Caesar',\n",
       "  'tempo_preparo': '20 minutos',\n",
       "  'porcoes': 4,\n",
       "  'total_ingredientes': 4},\n",
       " {'titulo': 'Pasta ao Pesto',\n",
       "  'tempo_preparo': '30 minutos',\n",
       "  'porcoes': 2,\n",
       "  'total_ingredientes': 5}]"
      ]
     },
     "execution_count": 6,
     "metadata": {},
     "output_type": "execute_result"
    }
   ],
   "source": [
    "receitas_expandidas"
   ]
  },
  {
   "cell_type": "code",
   "execution_count": 7,
   "metadata": {},
   "outputs": [
    {
     "data": {
      "text/html": [
       "<div>\n",
       "<style scoped>\n",
       "    .dataframe tbody tr th:only-of-type {\n",
       "        vertical-align: middle;\n",
       "    }\n",
       "\n",
       "    .dataframe tbody tr th {\n",
       "        vertical-align: top;\n",
       "    }\n",
       "\n",
       "    .dataframe thead th {\n",
       "        text-align: right;\n",
       "    }\n",
       "</style>\n",
       "<table border=\"1\" class=\"dataframe\">\n",
       "  <thead>\n",
       "    <tr style=\"text-align: right;\">\n",
       "      <th></th>\n",
       "      <th>titulo</th>\n",
       "      <th>tempo_preparo</th>\n",
       "      <th>porcoes</th>\n",
       "      <th>total_ingredientes</th>\n",
       "    </tr>\n",
       "  </thead>\n",
       "  <tbody>\n",
       "    <tr>\n",
       "      <th>0</th>\n",
       "      <td>Bolo de Chocolate</td>\n",
       "      <td>45 minutos</td>\n",
       "      <td>8</td>\n",
       "      <td>5</td>\n",
       "    </tr>\n",
       "    <tr>\n",
       "      <th>1</th>\n",
       "      <td>Salada Caesar</td>\n",
       "      <td>20 minutos</td>\n",
       "      <td>4</td>\n",
       "      <td>4</td>\n",
       "    </tr>\n",
       "    <tr>\n",
       "      <th>2</th>\n",
       "      <td>Pasta ao Pesto</td>\n",
       "      <td>30 minutos</td>\n",
       "      <td>2</td>\n",
       "      <td>5</td>\n",
       "    </tr>\n",
       "  </tbody>\n",
       "</table>\n",
       "</div>"
      ],
      "text/plain": [
       "              titulo tempo_preparo  porcoes  total_ingredientes\n",
       "0  Bolo de Chocolate    45 minutos        8                   5\n",
       "1      Salada Caesar    20 minutos        4                   4\n",
       "2     Pasta ao Pesto    30 minutos        2                   5"
      ]
     },
     "execution_count": 7,
     "metadata": {},
     "output_type": "execute_result"
    }
   ],
   "source": [
    "df_expandido = pd.DataFrame(receitas_expandidas)\n",
    "df_expandido"
   ]
  }
 ],
 "metadata": {
  "kernelspec": {
   "display_name": "Python 3",
   "language": "python",
   "name": "python3"
  },
  "language_info": {
   "codemirror_mode": {
    "name": "ipython",
    "version": 3
   },
   "file_extension": ".py",
   "mimetype": "text/x-python",
   "name": "python",
   "nbconvert_exporter": "python",
   "pygments_lexer": "ipython3",
   "version": "3.11.5"
  }
 },
 "nbformat": 4,
 "nbformat_minor": 2
}
